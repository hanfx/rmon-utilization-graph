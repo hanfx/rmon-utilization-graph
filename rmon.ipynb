{
 "cells": [
  {
   "cell_type": "code",
   "execution_count": 35,
   "metadata": {},
   "outputs": [],
   "source": [
    "import os\n",
    "import pandas as pd\n",
    "import matplotlib.pyplot as plt"
   ]
  },
  {
   "cell_type": "code",
   "execution_count": 36,
   "metadata": {},
   "outputs": [],
   "source": [
    "file_path = \"15min-ETH-s1p1-20250107-TJS191_METUN_SAJAU_1S.csv\"\n",
    "\n",
    "data = pd.read_csv(file_path, header = 1)\n",
    "\n",
    "data.to_csv('rmon.csv', index = False)"
   ]
  },
  {
   "cell_type": "code",
   "execution_count": 37,
   "metadata": {},
   "outputs": [
    {
     "data": {
      "text/html": [
       "<div>\n",
       "<style scoped>\n",
       "    .dataframe tbody tr th:only-of-type {\n",
       "        vertical-align: middle;\n",
       "    }\n",
       "\n",
       "    .dataframe tbody tr th {\n",
       "        vertical-align: top;\n",
       "    }\n",
       "\n",
       "    .dataframe thead th {\n",
       "        text-align: right;\n",
       "    }\n",
       "</style>\n",
       "<table border=\"1\" class=\"dataframe\">\n",
       "  <thead>\n",
       "    <tr style=\"text-align: right;\">\n",
       "      <th></th>\n",
       "      <th>Time Stamp</th>\n",
       "      <th>RX Octs</th>\n",
       "      <th>TX Octs</th>\n",
       "      <th>RX Pkts</th>\n",
       "      <th>TX Pkts</th>\n",
       "      <th>RX Drop Events</th>\n",
       "      <th>Status</th>\n",
       "      <th>RX Undersize Pkts</th>\n",
       "      <th>Status.1</th>\n",
       "      <th>RX Fragments</th>\n",
       "      <th>...</th>\n",
       "      <th>TX Queue3 Discard</th>\n",
       "      <th>TX Queue4 Discard</th>\n",
       "      <th>TX Queue5 Discard</th>\n",
       "      <th>TX Queue6 Discard</th>\n",
       "      <th>TX Queue7 Discard</th>\n",
       "      <th>Unnamed: 49</th>\n",
       "      <th>Unnamed: 50</th>\n",
       "      <th>Unnamed: 51</th>\n",
       "      <th>Unnamed: 52</th>\n",
       "      <th>Record Status</th>\n",
       "    </tr>\n",
       "  </thead>\n",
       "  <tbody>\n",
       "    <tr>\n",
       "      <th>0</th>\n",
       "      <td>00:15</td>\n",
       "      <td>9175527480</td>\n",
       "      <td>1514703941</td>\n",
       "      <td>8335349</td>\n",
       "      <td>3524205</td>\n",
       "      <td>0</td>\n",
       "      <td>NORMAL</td>\n",
       "      <td>0</td>\n",
       "      <td>NORMAL</td>\n",
       "      <td>0</td>\n",
       "      <td>...</td>\n",
       "      <td>0</td>\n",
       "      <td>0</td>\n",
       "      <td>0</td>\n",
       "      <td>0</td>\n",
       "      <td>0</td>\n",
       "      <td>NaN</td>\n",
       "      <td>NaN</td>\n",
       "      <td>NaN</td>\n",
       "      <td>NaN</td>\n",
       "      <td>VALID</td>\n",
       "    </tr>\n",
       "    <tr>\n",
       "      <th>1</th>\n",
       "      <td>00:30</td>\n",
       "      <td>6942527191</td>\n",
       "      <td>1068587206</td>\n",
       "      <td>6378407</td>\n",
       "      <td>2801259</td>\n",
       "      <td>0</td>\n",
       "      <td>NORMAL</td>\n",
       "      <td>0</td>\n",
       "      <td>NORMAL</td>\n",
       "      <td>0</td>\n",
       "      <td>...</td>\n",
       "      <td>0</td>\n",
       "      <td>0</td>\n",
       "      <td>0</td>\n",
       "      <td>0</td>\n",
       "      <td>0</td>\n",
       "      <td>NaN</td>\n",
       "      <td>NaN</td>\n",
       "      <td>NaN</td>\n",
       "      <td>NaN</td>\n",
       "      <td>VALID</td>\n",
       "    </tr>\n",
       "    <tr>\n",
       "      <th>2</th>\n",
       "      <td>00:45</td>\n",
       "      <td>7941318350</td>\n",
       "      <td>1010057412</td>\n",
       "      <td>7164876</td>\n",
       "      <td>3122591</td>\n",
       "      <td>0</td>\n",
       "      <td>NORMAL</td>\n",
       "      <td>0</td>\n",
       "      <td>NORMAL</td>\n",
       "      <td>0</td>\n",
       "      <td>...</td>\n",
       "      <td>0</td>\n",
       "      <td>0</td>\n",
       "      <td>0</td>\n",
       "      <td>0</td>\n",
       "      <td>0</td>\n",
       "      <td>NaN</td>\n",
       "      <td>NaN</td>\n",
       "      <td>NaN</td>\n",
       "      <td>NaN</td>\n",
       "      <td>VALID</td>\n",
       "    </tr>\n",
       "    <tr>\n",
       "      <th>3</th>\n",
       "      <td>01:00</td>\n",
       "      <td>7270610327</td>\n",
       "      <td>1027084717</td>\n",
       "      <td>6650565</td>\n",
       "      <td>3131650</td>\n",
       "      <td>0</td>\n",
       "      <td>NORMAL</td>\n",
       "      <td>0</td>\n",
       "      <td>NORMAL</td>\n",
       "      <td>0</td>\n",
       "      <td>...</td>\n",
       "      <td>0</td>\n",
       "      <td>0</td>\n",
       "      <td>0</td>\n",
       "      <td>0</td>\n",
       "      <td>0</td>\n",
       "      <td>NaN</td>\n",
       "      <td>NaN</td>\n",
       "      <td>NaN</td>\n",
       "      <td>NaN</td>\n",
       "      <td>VALID</td>\n",
       "    </tr>\n",
       "    <tr>\n",
       "      <th>4</th>\n",
       "      <td>01:15</td>\n",
       "      <td>6035485150</td>\n",
       "      <td>807984471</td>\n",
       "      <td>5667669</td>\n",
       "      <td>2629199</td>\n",
       "      <td>0</td>\n",
       "      <td>NORMAL</td>\n",
       "      <td>0</td>\n",
       "      <td>NORMAL</td>\n",
       "      <td>0</td>\n",
       "      <td>...</td>\n",
       "      <td>0</td>\n",
       "      <td>0</td>\n",
       "      <td>0</td>\n",
       "      <td>0</td>\n",
       "      <td>0</td>\n",
       "      <td>NaN</td>\n",
       "      <td>NaN</td>\n",
       "      <td>NaN</td>\n",
       "      <td>NaN</td>\n",
       "      <td>VALID</td>\n",
       "    </tr>\n",
       "  </tbody>\n",
       "</table>\n",
       "<p>5 rows × 54 columns</p>\n",
       "</div>"
      ],
      "text/plain": [
       "  Time Stamp     RX Octs     TX Octs  RX Pkts  TX Pkts  RX Drop Events  \\\n",
       "0      00:15  9175527480  1514703941  8335349  3524205               0   \n",
       "1      00:30  6942527191  1068587206  6378407  2801259               0   \n",
       "2      00:45  7941318350  1010057412  7164876  3122591               0   \n",
       "3      01:00  7270610327  1027084717  6650565  3131650               0   \n",
       "4      01:15  6035485150   807984471  5667669  2629199               0   \n",
       "\n",
       "   Status  RX Undersize Pkts Status.1  RX Fragments  ... TX Queue3 Discard  \\\n",
       "0  NORMAL                  0   NORMAL             0  ...                 0   \n",
       "1  NORMAL                  0   NORMAL             0  ...                 0   \n",
       "2  NORMAL                  0   NORMAL             0  ...                 0   \n",
       "3  NORMAL                  0   NORMAL             0  ...                 0   \n",
       "4  NORMAL                  0   NORMAL             0  ...                 0   \n",
       "\n",
       "   TX Queue4 Discard  TX Queue5 Discard  TX Queue6 Discard  TX Queue7 Discard  \\\n",
       "0                  0                  0                  0                  0   \n",
       "1                  0                  0                  0                  0   \n",
       "2                  0                  0                  0                  0   \n",
       "3                  0                  0                  0                  0   \n",
       "4                  0                  0                  0                  0   \n",
       "\n",
       "   Unnamed: 49  Unnamed: 50  Unnamed: 51  Unnamed: 52  Record Status  \n",
       "0          NaN          NaN          NaN          NaN          VALID  \n",
       "1          NaN          NaN          NaN          NaN          VALID  \n",
       "2          NaN          NaN          NaN          NaN          VALID  \n",
       "3          NaN          NaN          NaN          NaN          VALID  \n",
       "4          NaN          NaN          NaN          NaN          VALID  \n",
       "\n",
       "[5 rows x 54 columns]"
      ]
     },
     "execution_count": 37,
     "metadata": {},
     "output_type": "execute_result"
    }
   ],
   "source": [
    "data.head()"
   ]
  },
  {
   "cell_type": "code",
   "execution_count": 38,
   "metadata": {},
   "outputs": [],
   "source": [
    "data.insert(3, \"RX Mbps\", [0] * len(data))\n",
    "data.insert(4, \"TX Mbps\", [0] * len(data))"
   ]
  },
  {
   "cell_type": "code",
   "execution_count": 39,
   "metadata": {},
   "outputs": [],
   "source": [
    "# data"
   ]
  },
  {
   "cell_type": "code",
   "execution_count": 40,
   "metadata": {},
   "outputs": [],
   "source": [
    "# Mengubah ke string untuk melakukan pembersihan data\n",
    "data['RX Octs'] = data['RX Octs'].astype(str)\n",
    "data['TX Octs'] = data['TX Octs'].astype(str)"
   ]
  },
  {
   "cell_type": "code",
   "execution_count": 41,
   "metadata": {},
   "outputs": [
    {
     "name": "stdout",
     "output_type": "stream",
     "text": [
      "Tidak ada karakter '*' pada kolom RX Octs dan TX Octs. Lanjutkan.\n"
     ]
    }
   ],
   "source": [
    "# data['RX Octs'] = data['RX Octs'].str.replace('*', '', regex=False)  # Hapus karakter '*'\n",
    "# data['TX Octs'] = data['TX Octs'].str.replace('*', '', regex=False)  # Hapus karakter '*'\n",
    "\n",
    "# Periksa apakah kolom 'RX Octs' atau 'TX Octs' mengandung karakter '*'\n",
    "if data['RX Octs'].str.contains(r'\\*').any() or data['TX Octs'].str.contains(r'\\*').any():\n",
    "    # Hapus karakter '*' jika ditemukan\n",
    "    data['RX Octs'] = data['RX Octs'].str.replace('*', '', regex=False)\n",
    "    data['TX Octs'] = data['TX Octs'].str.replace('*', '', regex=False)\n",
    "    print(\"Karakter '*' telah dihapus dari kolom RX Octs dan TX Octs.\")\n",
    "else:\n",
    "    print(\"Tidak ada karakter '*' pada kolom RX Octs dan TX Octs. Lanjutkan.\")\n"
   ]
  },
  {
   "cell_type": "code",
   "execution_count": 42,
   "metadata": {},
   "outputs": [],
   "source": [
    "# data['Time Stamp'] = data['Time Stamp'].replace('24:00', '00:00')\n",
    "# data['Time Stamp'] = pd.to_datetime(data['Time Stamp'], format = '%H:%M').dt.time\n",
    "data['RX Mbps'] = data['RX Mbps'].astype(float)\n",
    "data['TX Mbps'] = data['TX Mbps'].astype(float)\n",
    "data['RX Octs'] = data['RX Octs'].astype(float)\n",
    "data['TX Octs'] = data['TX Octs'].astype(float)\n"
   ]
  },
  {
   "cell_type": "code",
   "execution_count": 43,
   "metadata": {},
   "outputs": [],
   "source": [
    "# data"
   ]
  },
  {
   "cell_type": "code",
   "execution_count": 44,
   "metadata": {},
   "outputs": [],
   "source": [
    "# data.dtypes\n"
   ]
  },
  {
   "cell_type": "code",
   "execution_count": 45,
   "metadata": {},
   "outputs": [],
   "source": [
    "data['RX Mbps'] = (data['RX Octs'] * 8)/(60*15)/1000000\n",
    "data['TX Mbps'] = (data['TX Octs'] * 8)/(60*15)/1000000"
   ]
  },
  {
   "cell_type": "code",
   "execution_count": 46,
   "metadata": {},
   "outputs": [],
   "source": [
    "# data"
   ]
  },
  {
   "cell_type": "code",
   "execution_count": 47,
   "metadata": {},
   "outputs": [],
   "source": [
    "# data['Time Stamp'] = data['Time Stamp'].replace('24:00', '00:00')\n",
    "# data['Time Stamp'] = pd.to_datetime(data['Time Stamp'], format = '%H:%M')\n",
    "\n",
    "# data['Time Stamp'] = pd.to_datetime(data['Time Stamp'])\n",
    "# data['Time Interval'] = data['Time Stamp'].apply(lambda x: pd.date_range(start=x, periods=2, freq='15min').max())"
   ]
  },
  {
   "cell_type": "code",
   "execution_count": 48,
   "metadata": {},
   "outputs": [],
   "source": [
    "# data.dtypes"
   ]
  },
  {
   "cell_type": "code",
   "execution_count": 49,
   "metadata": {},
   "outputs": [],
   "source": [
    "# data"
   ]
  },
  {
   "cell_type": "code",
   "execution_count": 50,
   "metadata": {},
   "outputs": [],
   "source": [
    "data =data.drop(index=95)"
   ]
  },
  {
   "cell_type": "code",
   "execution_count": 51,
   "metadata": {},
   "outputs": [
    {
     "data": {
      "image/png": "[encoded data removed]",
      "text/plain": [
       "<Figure size 1000x600 with 1 Axes>"
      ]
     },
     "metadata": {},
     "output_type": "display_data"
    }
   ],
   "source": [
    "# Membuat grafik garis untuk RX Mbps dan TX Mbps\n",
    "plt.figure(figsize=(10, 6))\n",
    "\n",
    "# Plot RX Mbps dan TX Mbps\n",
    "# plt.plot(data.index, data['RX Mbps'], label='RX Mbps', color='blue', marker='o', linestyle='-', linewidth=2)\n",
    "# plt.plot(data.index, data['TX Mbps'], label='TX Mbps', color='red', marker='o', linestyle='-', linewidth=2)\n",
    "\n",
    "# Plot RX Mbps dan TX Mbps\n",
    "plt.plot(data['Time Stamp'], data['RX Mbps'], label='RX Mbps', color='blue', linestyle='-', linewidth=2)\n",
    "plt.plot(data['Time Stamp'], data['TX Mbps'], label='TX Mbps', color='red', linestyle='-', linewidth=2)\n",
    "\n",
    "# Menambahkan judul grafik\n",
    "file_base = os.path.splitext(os.path.basename(file_path))[0]\n",
    "title_part = file_base.split('-')[4]\n",
    "plt.title(f\"Utilisasi {title_part}\", fontsize= 16)\n",
    "\n",
    "plt.xlabel('Time')\n",
    "plt.ylabel('Utils (Mbps)')\n",
    "\n",
    "# Menambahkan legenda\n",
    "plt.legend()\n",
    "\n",
    "#interval data\n",
    "# data['Time Stamp'] = pd.to_datetime(data['Time Stamp'])\n",
    "# data['Time Interval'] = data['Time Stamp'].apply(lambda x: pd.date_range(start=x, periods=2, freq='15min').max())\n",
    "\n",
    "# Menandai sumbu x berdasarkan index data\n",
    "# plt.xlim([data['Time Stamp'].min(),data['Time Stamp'].max()])\n",
    "\n",
    "# Menemukan nilai tertinggi\n",
    "max_rx = data['RX Mbps'].max()\n",
    "min_rx = data['RX Mbps'].min()\n",
    "\n",
    "# Menampilkan baris data tertinggi\n",
    "highest_rx = data.loc[data['RX Mbps'] == max_rx]\n",
    "lowest_rx = data.loc[data['RX Mbps'] == min_rx]\n",
    "\n",
    "# Menambahkan anotasi pada titik tertinggi\n",
    "for idx, row in highest_rx.iterrows():\n",
    "    plt.text(idx, row['RX Mbps'], f\"Max RX: {row['RX Mbps']:.2f} Mbps\", color='black', fontsize='small', ha='left')\n",
    "\n",
    "for idx, row in lowest_rx.iterrows():\n",
    "    plt.text(idx, row['RX Mbps'], f\"Min RX: {row['RX Mbps']:.2f} Mbps\", color='black', fontsize='small', ha='left')\n",
    "\n",
    "# Menampilkan grafik\n",
    "plt.grid(axis='y')\n",
    "plt.xticks(data['Time Stamp'][::13], rotation=45)\n",
    "plt.tight_layout()\n",
    "plt.show()"
   ]
  },
  {
   "cell_type": "code",
   "execution_count": null,
   "metadata": {},
   "outputs": [],
   "source": []
  }
 ],
 "metadata": {
  "kernelspec": {
   "display_name": "Python 3",
   "language": "python",
   "name": "python3"
  },
  "language_info": {
   "codemirror_mode": {
    "name": "ipython",
    "version": 3
   },
   "file_extension": ".py",
   "mimetype": "text/x-python",
   "name": "python",
   "nbconvert_exporter": "python",
   "pygments_lexer": "ipython3",
   "version": "3.12.4"
  }
 },
 "nbformat": 4,
 "nbformat_minor": 2
}
